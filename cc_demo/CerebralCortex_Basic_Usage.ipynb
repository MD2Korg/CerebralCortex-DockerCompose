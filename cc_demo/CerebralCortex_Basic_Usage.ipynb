{
 "cells": [
  {
   "cell_type": "code",
   "execution_count": null,
   "metadata": {},
   "outputs": [],
   "source": [
    "# Load required libraries\n",
    "from cerebralcortex.core.data_manager.raw.stream_handler import DataSet\n",
    "from cerebralcortex.cerebralcortex import CerebralCortex\n",
    "from cerebralcortex.core.datatypes.datastream import DataStream\n",
    "from cerebralcortex.core.datatypes.datastream import DataPoint\n",
    "import matplotlib.pyplot as plt"
   ]
  },
  {
   "cell_type": "code",
   "execution_count": 10,
   "metadata": {},
   "outputs": [],
   "source": [
    "# Load CerebralCortex Configurations\n",
    "CC = CerebralCortex(\"../cc_config_file/cc_vagrant_configuration.yml\")"
   ]
  },
  {
   "cell_type": "code",
   "execution_count": 11,
   "metadata": {},
   "outputs": [
    {
     "name": "stdout",
     "output_type": "stream",
     "text": [
      "Owner ID: 636fcc1f-8966-4e63-a9df-0cbaa6e9296c\n"
     ]
    }
   ],
   "source": [
    "# Get all users for study name \"Demo\"\n",
    "user_ids = CC.get_all_users(\"demo\")\n",
    "\n",
    "# Print only first user's identifier\n",
    "print(\"Owner ID: {}\".format(user_ids[0][\"identifier\"]))"
   ]
  },
  {
   "cell_type": "code",
   "execution_count": 12,
   "metadata": {},
   "outputs": [
    {
     "name": "stdout",
     "output_type": "stream",
     "text": [
      "DATA_QUALITY_SUMMARY_HOUR--LED--org.md2k.motionsense--MOTION_SENSE_HRV--RIGHT_WRIST = DATA_QUALITY_SUMMARY_HOUR--LED--org.md2k.motionsense--MOTION_SENSE_HRV--RIGHT_WRIST, 6af77114-d438-3a9c-8c9c-fd3489ed04f7\n",
      "\n",
      "DATA_QUALITY_SUMMARY_MINUTE--LED--org.md2k.motionsense--MOTION_SENSE_HRV--LEFT_WRIST = DATA_QUALITY_SUMMARY_MINUTE--LED--org.md2k.motionsense--MOTION_SENSE_HRV--LEFT_WRIST, 045b4cd0-1104-39b6-8c32-ae82b8cdc89d\n",
      "\n",
      "CU_APPUSAGE--edu.dartmouth.eureka = CU_APPUSAGE--edu.dartmouth.eureka, 560ec2a2-edb4-35b2-b27c-9af560545c3c\n",
      "\n",
      "DATA_QUALITY_SUMMARY_HOUR--ECG--org.md2k.autosenseble--AUTOSENSE_BLE--CHEST = DATA_QUALITY_SUMMARY_HOUR--ECG--org.md2k.autosenseble--AUTOSENSE_BLE--CHEST, e68f06d5-ed76-38ca-b0a8-f85e89f43d2d\n",
      "\n",
      "GYROSCOPE--org.md2k.motionsense--MOTION_SENSE_HRV--LEFT_WRIST = GYROSCOPE--org.md2k.motionsense--MOTION_SENSE_HRV--LEFT_WRIST, ee0a3aac-699a-3491-9010-ed37e94b1032\n",
      "\n",
      "DATA_QUALITY_SUMMARY_HOUR--ACCELEROMETER--org.md2k.autosenseble--AUTOSENSE_BLE--CHEST = DATA_QUALITY_SUMMARY_HOUR--ACCELEROMETER--org.md2k.autosenseble--AUTOSENSE_BLE--CHEST, 6c424c3a-8b81-3153-bb39-f5cb2f1bf0e2\n",
      "\n",
      "DATA_QUALITY_SUMMARY_MINUTE--ECG--org.md2k.autosenseble--AUTOSENSE_BLE--CHEST = DATA_QUALITY_SUMMARY_MINUTE--ECG--org.md2k.autosenseble--AUTOSENSE_BLE--CHEST, c60bf97d-feaf-33b6-bc5f-e6a9cd67fde9\n",
      "\n",
      "LED--org.md2k.motionsense--MOTION_SENSE_HRV--RIGHT_WRIST = LED--org.md2k.motionsense--MOTION_SENSE_HRV--RIGHT_WRIST, 42f5e553-be96-3476-b915-48ff2322d224\n",
      "\n",
      "GEOFENCE_SUMMARY_MINUTE--Home--org.md2k.phonesensor--PHONE = GEOFENCE_SUMMARY_MINUTE--Home--org.md2k.phonesensor--PHONE, 9b919132-e22e-3fda-a823-38737e6fc18f\n",
      "\n",
      "CU_AUDIO_ENERGY--edu.dartmouth.eureka = CU_AUDIO_ENERGY--edu.dartmouth.eureka, d2a2650f-b667-35d1-aeb9-ea0a22864264\n",
      "\n",
      "CU_NOTIF_POST_TICKERTEXT--edu.dartmouth.eureka = CU_NOTIF_POST_TICKERTEXT--edu.dartmouth.eureka, 6215d376-9619-3f70-806d-1c4972b81246\n",
      "\n",
      "GYROSCOPE--org.md2k.phonesensor--PHONE = GYROSCOPE--org.md2k.phonesensor--PHONE, 5b0a7775-ffb5-34ff-a328-1a850d4182d9\n",
      "\n",
      "CU_SMS_LENGTH--edu.dartmouth.eureka = CU_SMS_LENGTH--edu.dartmouth.eureka, 548b685d-390b-360b-812e-5b1677bc9a93\n",
      "\n",
      "DATA_QUALITY_SUMMARY_DAY--ACCELEROMETER--org.md2k.motionsense--MOTION_SENSE_HRV--LEFT_WRIST = DATA_QUALITY_SUMMARY_DAY--ACCELEROMETER--org.md2k.motionsense--MOTION_SENSE_HRV--LEFT_WRIST, 28689c6c-a00f-3a00-9453-67119c78dcad\n",
      "\n",
      "RESPIRATION--org.md2k.autosenseble--AUTOSENSE_BLE--CHEST = RESPIRATION--org.md2k.autosenseble--AUTOSENSE_BLE--CHEST, baa56c65-1333-395f-b0c5-83db722ab842\n",
      "\n",
      "CU_IS_SCREEN_ON--edu.dartmouth.eureka = CU_IS_SCREEN_ON--edu.dartmouth.eureka, 2977bba1-e5b1-39ed-98af-6ffbbbb0d903\n",
      "\n",
      "TOUCH_SCREEN--org.md2k.phonesensor--PHONE = TOUCH_SCREEN--org.md2k.phonesensor--PHONE, 7709eb55-6558-3023-bb26-947e47b52765\n",
      "\n",
      "ACTIVITY_TYPE--org.md2k.phonesensor--PHONE = ACTIVITY_TYPE--org.md2k.phonesensor--PHONE, 1a1991fb-522d-334e-8418-916a002a4959\n",
      "\n",
      "DATA_QUALITY_SUMMARY_MINUTE--RESPIRATION--org.md2k.autosenseble--AUTOSENSE_BLE--CHEST = DATA_QUALITY_SUMMARY_MINUTE--RESPIRATION--org.md2k.autosenseble--AUTOSENSE_BLE--CHEST, 8a0ccdba-0e5d-3d8e-b5e0-3a52b29c64da\n",
      "\n",
      "CU_SMS_NUMBER--edu.dartmouth.eureka = CU_SMS_NUMBER--edu.dartmouth.eureka, bb1e739f-f726-3a9d-8455-260960d9bcdd\n",
      "\n",
      "ACCELEROMETER--org.md2k.autosenseble--AUTOSENSE_BLE--CHEST = ACCELEROMETER--org.md2k.autosenseble--AUTOSENSE_BLE--CHEST, eda4af0e-e5b5-3f1b-959e-7fb9d111e361\n",
      "\n",
      "SEQUENCE_NUMBER--org.md2k.autosenseble--AUTOSENSE_BLE--CHEST = SEQUENCE_NUMBER--org.md2k.autosenseble--AUTOSENSE_BLE--CHEST, 1efc7328-14d2-3879-aa12-9b68d379b986\n",
      "\n",
      "LED--org.md2k.motionsense--MOTION_SENSE_HRV--LEFT_WRIST = LED--org.md2k.motionsense--MOTION_SENSE_HRV--LEFT_WRIST, 907d080c-dd59-3d45-9b00-68dfedd20959\n",
      "\n",
      "GEOFENCE_SUMMARY_DAY--Work--org.md2k.phonesensor--PHONE = GEOFENCE_SUMMARY_DAY--Work--org.md2k.phonesensor--PHONE, d53be20e-6f6f-389e-86c0-428cd27582fc\n",
      "\n",
      "DATA_QUALITY--LED--org.md2k.motionsense--MOTION_SENSE_HRV--LEFT_WRIST = DATA_QUALITY--LED--org.md2k.motionsense--MOTION_SENSE_HRV--LEFT_WRIST, 6753c24a-c234-3769-949d-ea5ab0a28e54\n",
      "\n",
      "DATA_QUALITY--ACCELEROMETER--org.md2k.motionsense--MOTION_SENSE_HRV--LEFT_WRIST = DATA_QUALITY--ACCELEROMETER--org.md2k.motionsense--MOTION_SENSE_HRV--LEFT_WRIST, f0b6fd9b-1e94-30af-a3dd-d6e896355bfe\n",
      "\n",
      "SEQUENCE_NUMBER--org.md2k.motionsense--MOTION_SENSE_HRV--LEFT_WRIST = SEQUENCE_NUMBER--org.md2k.motionsense--MOTION_SENSE_HRV--LEFT_WRIST, 3edaa71d-3e18-37f2-93de-b30112fdc763\n",
      "\n",
      "GEOFENCE_SUMMARY_MINUTE--Work--org.md2k.phonesensor--PHONE = GEOFENCE_SUMMARY_MINUTE--Work--org.md2k.phonesensor--PHONE, 28b7e76b-8a66-3b85-b716-68c7fa9d4eeb\n",
      "\n",
      "STEP_COUNT--org.md2k.phonesensor--PHONE = STEP_COUNT--org.md2k.phonesensor--PHONE, c9946baf-37e0-3554-96b1-fbbf75d7ca6d\n",
      "\n",
      "DATA_QUALITY_SUMMARY_DAY--ACCELEROMETER--org.md2k.motionsense--MOTION_SENSE_HRV--RIGHT_WRIST = DATA_QUALITY_SUMMARY_DAY--ACCELEROMETER--org.md2k.motionsense--MOTION_SENSE_HRV--RIGHT_WRIST, 14694bee-d238-36e7-96c8-4e34f62fa6f8\n",
      "\n",
      "DATA_QUALITY_SUMMARY_HOUR--ACCELEROMETER--org.md2k.motionsense--MOTION_SENSE_HRV--LEFT_WRIST = DATA_QUALITY_SUMMARY_HOUR--ACCELEROMETER--org.md2k.motionsense--MOTION_SENSE_HRV--LEFT_WRIST, c94b63ef-8bfe-3779-b107-189a63e69ffd\n",
      "\n",
      "GEOFENCE--Work--org.md2k.phonesensor--PHONE = GEOFENCE--Work--org.md2k.phonesensor--PHONE, 3a0e5ec8-96fa-36ca-acec-32bb31b3fbe8\n",
      "\n",
      "BATTERY--org.md2k.phonesensor--PHONE = BATTERY--org.md2k.phonesensor--PHONE, d744222a-43ed-31e6-96cc-d8e44969bed0\n",
      "\n",
      "BATTERY--org.md2k.motionsense--MOTION_SENSE_HRV--LEFT_WRIST = BATTERY--org.md2k.motionsense--MOTION_SENSE_HRV--LEFT_WRIST, 3f03ec10-9afa-30d4-8656-39141d4c71c6\n",
      "\n",
      "ACCELEROMETER--org.md2k.phonesensor--PHONE = ACCELEROMETER--org.md2k.phonesensor--PHONE, 7f971348-67dc-3ee1-bfbb-59154e59d6f4\n",
      "\n",
      "STEP_COUNT_SUMMARY_DAY--org.md2k.phonesensor--PHONE = STEP_COUNT_SUMMARY_DAY--org.md2k.phonesensor--PHONE, f69fd9ba-c158-3ea9-8950-dd761c138289\n",
      "\n",
      "RESPIRATION_BASELINE--org.md2k.autosenseble--AUTOSENSE_BLE--CHEST = RESPIRATION_BASELINE--org.md2k.autosenseble--AUTOSENSE_BLE--CHEST, 0ac444a4-e427-3703-a581-73f2196e8090\n",
      "\n",
      "DATA_QUALITY_SUMMARY_DAY--ACCELEROMETER--org.md2k.autosenseble--AUTOSENSE_BLE--CHEST = DATA_QUALITY_SUMMARY_DAY--ACCELEROMETER--org.md2k.autosenseble--AUTOSENSE_BLE--CHEST, f2d00b3c-87e4-3528-ad1d-256a21d6fc0a\n",
      "\n",
      "CU_NOTIF_RM_TICKERTEXT--edu.dartmouth.eureka = CU_NOTIF_RM_TICKERTEXT--edu.dartmouth.eureka, caa0757e-a4a9-32d8-988e-b20e311354d6\n",
      "\n",
      "DATA_QUALITY_SUMMARY_DAY--ECG--org.md2k.autosenseble--AUTOSENSE_BLE--CHEST = DATA_QUALITY_SUMMARY_DAY--ECG--org.md2k.autosenseble--AUTOSENSE_BLE--CHEST, 82a8b0cf-f2c2-3295-a85c-d30c6fb46277\n",
      "\n",
      "ACCELEROMETER--org.md2k.motionsense--MOTION_SENSE_HRV--LEFT_WRIST = ACCELEROMETER--org.md2k.motionsense--MOTION_SENSE_HRV--LEFT_WRIST, e6cd400a-33f3-38cc-8b11-4022ab90c475\n",
      "\n",
      "DATA_QUALITY--ECG--org.md2k.autosenseble--AUTOSENSE_BLE--CHEST = DATA_QUALITY--ECG--org.md2k.autosenseble--AUTOSENSE_BLE--CHEST, 6fe03609-0269-39b5-b772-e932307cd2f4\n",
      "\n",
      "DATA_QUALITY_SUMMARY_DAY--LED--org.md2k.motionsense--MOTION_SENSE_HRV--RIGHT_WRIST = DATA_QUALITY_SUMMARY_DAY--LED--org.md2k.motionsense--MOTION_SENSE_HRV--RIGHT_WRIST, c1aefecd-fbc6-3e25-88f5-6e43f6d38b33\n",
      "\n",
      "DATA_QUALITY_SUMMARY_MINUTE--ACCELEROMETER--org.md2k.autosenseble--AUTOSENSE_BLE--CHEST = DATA_QUALITY_SUMMARY_MINUTE--ACCELEROMETER--org.md2k.autosenseble--AUTOSENSE_BLE--CHEST, 2ad21aee-7028-3dba-a4ae-9ae95db1e7e5\n",
      "\n",
      "CU_NOTIF_POST_PACKAGE--edu.dartmouth.eureka = CU_NOTIF_POST_PACKAGE--edu.dartmouth.eureka, 82c3d3ac-02a1-3bf3-ae34-171ebd44b10e\n",
      "\n",
      "GYROSCOPE--org.md2k.motionsense--MOTION_SENSE_HRV--RIGHT_WRIST = GYROSCOPE--org.md2k.motionsense--MOTION_SENSE_HRV--RIGHT_WRIST, a8302c26-ad94-3d70-a6f8-45654d56d315\n",
      "\n",
      "SEQUENCE_NUMBER--org.md2k.motionsense--MOTION_SENSE_HRV--RIGHT_WRIST = SEQUENCE_NUMBER--org.md2k.motionsense--MOTION_SENSE_HRV--RIGHT_WRIST, 9b1d4a8b-a419-3a0e-96a8-402901e9d6f2\n",
      "\n",
      "STEP_COUNT_SUMMARY_HOUR--org.md2k.phonesensor--PHONE = STEP_COUNT_SUMMARY_HOUR--org.md2k.phonesensor--PHONE, a18ffab6-1453-3e72-a7c5-f32d0cb44c77\n",
      "\n",
      "DATA_QUALITY_SUMMARY_MINUTE--LED--org.md2k.motionsense--MOTION_SENSE_HRV--RIGHT_WRIST = DATA_QUALITY_SUMMARY_MINUTE--LED--org.md2k.motionsense--MOTION_SENSE_HRV--RIGHT_WRIST, 6971bcc1-a322-3d80-8241-8172aeaa10ae\n",
      "\n",
      "STEP_COUNT_SUMMARY_MINUTE--org.md2k.phonesensor--PHONE = STEP_COUNT_SUMMARY_MINUTE--org.md2k.phonesensor--PHONE, 51d99848-a5ab-3289-9b5e-f330b3e8d761\n",
      "\n",
      "DATA_QUALITY_SUMMARY_MINUTE--ACCELEROMETER--org.md2k.motionsense--MOTION_SENSE_HRV--RIGHT_WRIST = DATA_QUALITY_SUMMARY_MINUTE--ACCELEROMETER--org.md2k.motionsense--MOTION_SENSE_HRV--RIGHT_WRIST, 013c66f8-aec0-38e0-880b-99e429504ac7\n",
      "\n",
      "DATA_QUALITY--ACCELEROMETER--org.md2k.motionsense--MOTION_SENSE_HRV--RIGHT_WRIST = DATA_QUALITY--ACCELEROMETER--org.md2k.motionsense--MOTION_SENSE_HRV--RIGHT_WRIST, 355fde3e-ee20-3fa5-8c29-069b470218b7\n",
      "\n",
      "CU_AUDIO_INFERENCE--edu.dartmouth.eureka = CU_AUDIO_INFERENCE--edu.dartmouth.eureka, 53dce361-4f00-3a6f-9283-4da069c81a3b\n",
      "\n",
      "DATA_QUALITY_SUMMARY_HOUR--RESPIRATION--org.md2k.autosenseble--AUTOSENSE_BLE--CHEST = DATA_QUALITY_SUMMARY_HOUR--RESPIRATION--org.md2k.autosenseble--AUTOSENSE_BLE--CHEST, 0109f347-3582-3887-b895-836b7d75052d\n",
      "\n",
      "DATA_QUALITY_SUMMARY_DAY--RESPIRATION--org.md2k.autosenseble--AUTOSENSE_BLE--CHEST = DATA_QUALITY_SUMMARY_DAY--RESPIRATION--org.md2k.autosenseble--AUTOSENSE_BLE--CHEST, 810360a5-7461-3dcb-9ce7-5f5137677ee3\n",
      "\n",
      "ACCELEROMETER--org.md2k.motionsense--MOTION_SENSE_HRV--RIGHT_WRIST = ACCELEROMETER--org.md2k.motionsense--MOTION_SENSE_HRV--RIGHT_WRIST, 67c66f02-4e33-3a10-bb2a-f821e09910d3\n",
      "\n",
      "CU_AUDIO_FEATURE--edu.dartmouth.eureka = CU_AUDIO_FEATURE--edu.dartmouth.eureka, c96d7004-db8f-329e-b1ee-6456463b347e\n",
      "\n",
      "CU_SMS_TYPE--edu.dartmouth.eureka = CU_SMS_TYPE--edu.dartmouth.eureka, 290d9da1-38b1-3555-bbcc-1ca6333b236d\n",
      "\n",
      "DATA_QUALITY--RESPIRATION--org.md2k.autosenseble--AUTOSENSE_BLE--CHEST = DATA_QUALITY--RESPIRATION--org.md2k.autosenseble--AUTOSENSE_BLE--CHEST, 7b6adb32-94b8-375a-99b6-e81681b23f1e\n",
      "\n",
      "DATA_QUALITY--ACCELEROMETER--org.md2k.autosenseble--AUTOSENSE_BLE--CHEST = DATA_QUALITY--ACCELEROMETER--org.md2k.autosenseble--AUTOSENSE_BLE--CHEST, e980f0d1-acc2-3cc9-b7d1-179206c269ef\n",
      "\n",
      "GEOFENCE--Home--org.md2k.phonesensor--PHONE = GEOFENCE--Home--org.md2k.phonesensor--PHONE, 8ef1bd01-0f8c-38c2-81eb-d477e0ce2020\n",
      "\n",
      "DATA_QUALITY--LED--org.md2k.motionsense--MOTION_SENSE_HRV--RIGHT_WRIST = DATA_QUALITY--LED--org.md2k.motionsense--MOTION_SENSE_HRV--RIGHT_WRIST, e53e967d-2029-3ce0-a7f2-b856e2acd71d\n",
      "\n",
      "GEOFENCE_SUMMARY_HOUR--Home--org.md2k.phonesensor--PHONE = GEOFENCE_SUMMARY_HOUR--Home--org.md2k.phonesensor--PHONE, ec51291b-5873-32bd-bba0-0566a15f256e\n",
      "\n",
      "AMBIENT_LIGHT--org.md2k.phonesensor--PHONE = AMBIENT_LIGHT--org.md2k.phonesensor--PHONE, 1c701661-9388-3eae-b028-065f40f0acf0\n",
      "\n",
      "BATTERY--org.md2k.autosenseble--AUTOSENSE_BLE--CHEST = BATTERY--org.md2k.autosenseble--AUTOSENSE_BLE--CHEST, 114bd2a2-1248-31fc-b7c3-5b6632886940\n",
      "\n",
      "GEOFENCE_SUMMARY_DAY--Home--org.md2k.phonesensor--PHONE = GEOFENCE_SUMMARY_DAY--Home--org.md2k.phonesensor--PHONE, 75c95f29-134f-3a98-9564-3ee3976a44a4\n",
      "\n",
      "DATA_QUALITY_SUMMARY_HOUR--ACCELEROMETER--org.md2k.motionsense--MOTION_SENSE_HRV--RIGHT_WRIST = DATA_QUALITY_SUMMARY_HOUR--ACCELEROMETER--org.md2k.motionsense--MOTION_SENSE_HRV--RIGHT_WRIST, 7cefad4f-ee43-3c70-add6-021f3a7d08e1\n",
      "\n",
      "CU_NOTIF_RM_PACKAGE--edu.dartmouth.eureka = CU_NOTIF_RM_PACKAGE--edu.dartmouth.eureka, eddb7b6d-7c8a-3744-af8d-45e3aacb1259\n",
      "\n",
      "GEOFENCE_SUMMARY_HOUR--Work--org.md2k.phonesensor--PHONE = GEOFENCE_SUMMARY_HOUR--Work--org.md2k.phonesensor--PHONE, 40c99875-1a39-36d2-b5f4-7c0d0348634c\n",
      "\n",
      "DATA_QUALITY_SUMMARY_DAY--LED--org.md2k.motionsense--MOTION_SENSE_HRV--LEFT_WRIST = DATA_QUALITY_SUMMARY_DAY--LED--org.md2k.motionsense--MOTION_SENSE_HRV--LEFT_WRIST, 99317579-7831-3aab-b3f9-8f24675bf861\n",
      "\n",
      "BATTERY--org.md2k.motionsense--MOTION_SENSE_HRV--RIGHT_WRIST = BATTERY--org.md2k.motionsense--MOTION_SENSE_HRV--RIGHT_WRIST, be7431b6-fb1a-3b40-8f39-00ca242cca46\n",
      "\n",
      "DATA_QUALITY_SUMMARY_HOUR--LED--org.md2k.motionsense--MOTION_SENSE_HRV--LEFT_WRIST = DATA_QUALITY_SUMMARY_HOUR--LED--org.md2k.motionsense--MOTION_SENSE_HRV--LEFT_WRIST, 0e9414fc-404b-39fc-bb58-32e334c14843\n",
      "\n",
      "DATA_QUALITY_SUMMARY_MINUTE--ACCELEROMETER--org.md2k.motionsense--MOTION_SENSE_HRV--LEFT_WRIST = DATA_QUALITY_SUMMARY_MINUTE--ACCELEROMETER--org.md2k.motionsense--MOTION_SENSE_HRV--LEFT_WRIST, 249fbd82-f2a0-3db4-8ad7-b4341dde8a59\n",
      "\n",
      "PROXIMITY--org.md2k.phonesensor--PHONE = PROXIMITY--org.md2k.phonesensor--PHONE, 3938545c-9da7-3cd3-bf03-9718e93a9cfd\n",
      "\n",
      "ECG--org.md2k.autosenseble--AUTOSENSE_BLE--CHEST = ECG--org.md2k.autosenseble--AUTOSENSE_BLE--CHEST, aa2d5268-4eb1-3ecc-9751-7101edc91e67\n",
      "\n"
     ]
    },
    {
     "name": "stderr",
     "output_type": "stream",
     "text": [
      "/opt/conda/lib/python3.6/site-packages/MD2K_Cerebral_Cortex-2.2.2-py3.6.egg/cerebralcortex/cerebralcortex.py:189: DeprecationWarning: PLEASE USE stream_ids KEY IN DICT OBJECT TO GET ALL STREAM IDS OF A STREAM NAME. Identifier key will be removed in CerebralCortex version 2.2.4.\n",
      "  warnings.warn(\"PLEASE USE stream_ids KEY IN DICT OBJECT TO GET ALL STREAM IDS OF A STREAM NAME. Identifier key will be removed in CerebralCortex version 2.2.4.\", DeprecationWarning)\n"
     ]
    }
   ],
   "source": [
    "# Get all the streams of a user\n",
    "user_streams = CC.get_user_streams(user_ids[0][\"identifier\"])\n",
    "\n",
    "# Print all the stream names and identifiers\n",
    "for key,val in user_streams.items():\n",
    "    print(\"{} = {}, {}\\n\".format(key, val[\"name\"], val[\"identifier\"]))\n"
   ]
  },
  {
   "cell_type": "code",
   "execution_count": 20,
   "metadata": {},
   "outputs": [
    {
     "name": "stdout",
     "output_type": "stream",
     "text": [
      "Stream Days []\n"
     ]
    }
   ],
   "source": [
    "# Get stream (BATTERY--org.md2k.phonesensor--PHONE = BATTERY--org.md2k.phonesensor--PHONE) days when data is available\n",
    "stream_days = CC.get_stream_days(\"d744222a-43ed-31e6-96cc-d8e44969bed0\")\n",
    "\n",
    "# Print stream (BATTERY--org.md2k.phonesensor--PHONE = BATTERY--org.md2k.phonesensor--PHONE) days\n",
    "print(\"Stream Days {}\".format(stream_days))"
   ]
  },
  {
   "cell_type": "code",
   "execution_count": 28,
   "metadata": {},
   "outputs": [
    {
     "name": "stdout",
     "output_type": "stream",
     "text": [
      "Stream Data Descriptor [{'NAME': 'Level', 'UNIT': 'percentage', 'DATA_TYPE': 'float', 'FREQUENCY': '1.0', 'MAX_VALUE': '100', 'MIN_VALUE': '0', 'DESCRIPTION': 'current battery charge'}, {'NAME': 'Voltage', 'UNIT': 'voltage', 'DATA_TYPE': 'float', 'FREQUENCY': '1.0', 'MAX_VALUE': '5000', 'MIN_VALUE': '0', 'DESCRIPTION': 'current battery voltage level'}, {'NAME': 'Temperature', 'UNIT': 'celsius', 'DATA_TYPE': 'float', 'FREQUENCY': '1.0', 'MAX_VALUE': '100', 'MIN_VALUE': '-50', 'DESCRIPTION': 'current battery temperature'}]\n"
     ]
    }
   ],
   "source": [
    "# Get data stream of a user for a particular day\n",
    "# stream name BATTERY--org.md2k.phonesensor--PHONE = BATTERY--org.md2k.phonesensor--PHONE\n",
    "ds = CC.get_stream(\"d744222a-43ed-31e6-96cc-d8e44969bed0\", \"636fcc1f-8966-4e63-a9df-0cbaa6e9296c\", \"20171201\")\n",
    "\n",
    "# Print data stream's data descriptor\n",
    "print(\"Stream Data Descriptor\" ,ds.data_descriptor)\n",
    "\n",
    "# Please have a look at all the properties of data stream at: https://github.com/MD2Korg/CerebralCortex/blob/master/cerebralcortex/core/datatypes/datastream.py"
   ]
  },
  {
   "cell_type": "code",
   "execution_count": 31,
   "metadata": {},
   "outputs": [
    {
     "data": {
      "text/plain": [
       "[DataPoint(2017-12-01 04:59:42.791000+00:00, None, -21600000, [15.000000953674316, 3699.0, 211.0]),\n",
       " DataPoint(2017-12-01 05:03:44.903000+00:00, None, -21600000, [15.000000953674316, 3688.0, 215.0]),\n",
       " DataPoint(2017-12-01 05:03:45.905000+00:00, None, -21600000, [15.000000953674316, 3688.0, 215.0]),\n",
       " DataPoint(2017-12-01 05:03:46.906000+00:00, None, -21600000, [15.000000953674316, 3688.0, 215.0]),\n",
       " DataPoint(2017-12-01 05:03:47.907000+00:00, None, -21600000, [15.000000953674316, 3688.0, 215.0])]"
      ]
     },
     "execution_count": 31,
     "metadata": {},
     "output_type": "execute_result"
    }
   ],
   "source": [
    "# Print only only first 5 data points of a stream\n",
    "ds.data[:5]"
   ]
  },
  {
   "cell_type": "code",
   "execution_count": 40,
   "metadata": {},
   "outputs": [
    {
     "data": {
      "image/png": "[encoded data removed]",
      "text/plain": [
       "<Figure size 432x288 with 1 Axes>"
      ]
     },
     "metadata": {},
     "output_type": "display_data"
    }
   ],
   "source": [
    "# Plot data stream\n",
    "\n",
    "battery = []\n",
    "day_time = []\n",
    "for dp in ds.data:\n",
    "    battery.append(dp.sample[0])\n",
    "    day_time.append(dp.start_time)\n",
    "\n",
    "plt.plot(day_time,battery)\n",
    "plt.ylabel('Battery Percentage')\n",
    "plt.xlabel('Time of the Day')\n",
    "plt.show()    "
   ]
  },
  {
   "cell_type": "code",
   "execution_count": null,
   "metadata": {},
   "outputs": [],
   "source": []
  }
 ],
 "metadata": {
  "kernelspec": {
   "display_name": "pySpark (Spark 2.2.0) (Python 3)",
   "language": "python",
   "name": "pyspark"
  },
  "language_info": {
   "codemirror_mode": {
    "name": "ipython",
    "version": 3
   },
   "file_extension": ".py",
   "mimetype": "text/x-python",
   "name": "python",
   "nbconvert_exporter": "python",
   "pygments_lexer": "ipython3",
   "version": "3.6.5"
  }
 },
 "nbformat": 4,
 "nbformat_minor": 2
}
