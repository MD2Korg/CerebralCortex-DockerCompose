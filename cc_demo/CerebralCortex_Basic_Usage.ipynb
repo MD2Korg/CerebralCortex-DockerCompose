{
 "cells": [
  {
   "cell_type": "code",
   "execution_count": 1,
   "metadata": {},
   "outputs": [],
   "source": [
    "# Load required libraries\n",
    "from cerebralcortex.core.data_manager.raw.stream_handler import DataSet\n",
    "from cerebralcortex.cerebralcortex import CerebralCortex\n",
    "from cerebralcortex.core.datatypes.datastream import DataStream\n",
    "from cerebralcortex.core.datatypes.datastream import DataPoint\n",
    "import matplotlib.pyplot as plt\n",
    "import uuid"
   ]
  },
  {
   "cell_type": "code",
   "execution_count": 2,
   "metadata": {},
   "outputs": [],
   "source": [
    "# Load CerebralCortex Configurations\n",
    "CC = CerebralCortex(\"../cc_config_file/cc_vagrant_configuration.yml\")\n",
    "#print(CC)"
   ]
  },
  {
   "cell_type": "code",
   "execution_count": 3,
   "metadata": {},
   "outputs": [
    {
     "name": "stdout",
     "output_type": "stream",
     "text": [
      "Owner ID: 636fcc1f-8966-4e63-a9df-0cbaa6e9296c\n"
     ]
    }
   ],
   "source": [
    "# Get all users for study name \"Demo\"\n",
    "user_ids = CC.get_all_users(\"demo\")\n",
    "\n",
    "# get only one participant's ID\n",
    "participant_id = user_ids[0][\"identifier\"]\n",
    "\n",
    "# Print only first user's identifier\n",
    "print(\"Owner ID: {}\".format(participant_id))"
   ]
  },
  {
   "cell_type": "code",
   "execution_count": 4,
   "metadata": {},
   "outputs": [
    {
     "name": "stdout",
     "output_type": "stream",
     "text": [
      "STEP_COUNT_SUMMARY_HOUR--org.md2k.mcerebrum--PHONE = STEP_COUNT_SUMMARY_HOUR--org.md2k.mcerebrum--PHONE, 4d7614f0-ca6a-3466-aa00-efb3b84b2ae0\n",
      "\n",
      "STEP_COUNT--org.md2k.mcerebrum--PHONE = STEP_COUNT--org.md2k.mcerebrum--PHONE, 27a46e61-916b-38cd-b02e-6c551f4bd03e\n",
      "\n",
      "DATA_QUALITY_SUMMARY_HOUR--ACCELEROMETER--org.md2k.motionsense--MOTION_SENSE_HRV_PLUS--RIGHT_WRIST = DATA_QUALITY_SUMMARY_HOUR--ACCELEROMETER--org.md2k.motionsense--MOTION_SENSE_HRV_PLUS--RIGHT_WRIST, 29870521-1617-3689-9058-f649ac3c887c\n",
      "\n",
      "DATA_QUALITY_SUMMARY_DAY--ACCELEROMETER--org.md2k.motionsense--MOTION_SENSE_HRV_PLUS--LEFT_WRIST = DATA_QUALITY_SUMMARY_DAY--ACCELEROMETER--org.md2k.motionsense--MOTION_SENSE_HRV_PLUS--LEFT_WRIST, 7f99b7d4-62c2-3d10-8104-9b75e3607c67\n",
      "\n",
      "BATTERY--org.md2k.mcerebrum--PHONE = BATTERY--org.md2k.mcerebrum--PHONE, c1208a0e-2ebd-3a50-9738-1c496e8ab5ab\n",
      "\n",
      "LOCATION--org.md2k.mcerebrum--PHONE = LOCATION--org.md2k.mcerebrum--PHONE, 019c2d56-62c6-36b2-9247-205312775ccb\n",
      "\n",
      "DATA_QUALITY_SUMMARY_HOUR--LED--org.md2k.motionsense--MOTION_SENSE_HRV_PLUS--LEFT_WRIST = DATA_QUALITY_SUMMARY_HOUR--LED--org.md2k.motionsense--MOTION_SENSE_HRV_PLUS--LEFT_WRIST, d45e0936-c6ec-3fee-bdb6-709f9c408ee2\n",
      "\n",
      "DATA_QUALITY_SUMMARY_TOTAL--LED--org.md2k.motionsense--MOTION_SENSE_HRV_PLUS--LEFT_WRIST = DATA_QUALITY_SUMMARY_TOTAL--LED--org.md2k.motionsense--MOTION_SENSE_HRV_PLUS--LEFT_WRIST, 46da350f-fd4e-3aac-97c4-e10eb719132b\n",
      "\n",
      "QUATERNION--org.md2k.motionsense--MOTION_SENSE_HRV_PLUS--RIGHT_WRIST = QUATERNION--org.md2k.motionsense--MOTION_SENSE_HRV_PLUS--RIGHT_WRIST, 1f4b6237-8005-3cb9-8230-28bdd98b0935\n",
      "\n",
      "DATA_QUALITY--LED--org.md2k.motionsense--MOTION_SENSE_HRV_PLUS--RIGHT_WRIST = DATA_QUALITY--LED--org.md2k.motionsense--MOTION_SENSE_HRV_PLUS--RIGHT_WRIST, 1051e3e3-b0c1-390f-b7cd-ce0b3da87d96\n",
      "\n",
      "DATA_QUALITY_SUMMARY_DAY--LED--org.md2k.motionsense--MOTION_SENSE_HRV_PLUS--LEFT_WRIST = DATA_QUALITY_SUMMARY_DAY--LED--org.md2k.motionsense--MOTION_SENSE_HRV_PLUS--LEFT_WRIST, 7f6ba1b5-1bc3-3272-b71c-460c7211a5eb\n",
      "\n",
      "SEQUENCE_NUMBER--CHARACTERISTIC_MAGNETOMETER--org.md2k.motionsense--MOTION_SENSE_HRV_PLUS--RIGHT_WRIST = SEQUENCE_NUMBER--CHARACTERISTIC_MAGNETOMETER--org.md2k.motionsense--MOTION_SENSE_HRV_PLUS--RIGHT_WRIST, 994b39c9-e71c-3384-9297-625c0acce852\n",
      "\n",
      "BATTERY--org.md2k.motionsense--MOTION_SENSE_HRV_PLUS--LEFT_WRIST = BATTERY--org.md2k.motionsense--MOTION_SENSE_HRV_PLUS--LEFT_WRIST, 2900cf87-43fb-3747-9703-33473934dc3d\n",
      "\n",
      "ACCELEROMETER--org.md2k.mcerebrum--PHONE = ACCELEROMETER--org.md2k.mcerebrum--PHONE, be10539a-e651-3741-bc6f-a613e8d1470b\n",
      "\n",
      "DATA_QUALITY_SUMMARY_DAY--ACCELEROMETER--org.md2k.motionsense--MOTION_SENSE_HRV_PLUS--RIGHT_WRIST = DATA_QUALITY_SUMMARY_DAY--ACCELEROMETER--org.md2k.motionsense--MOTION_SENSE_HRV_PLUS--RIGHT_WRIST, 5a60169d-8faa-38da-b2db-82b00944db69\n",
      "\n",
      "RAW--CHARACTERISTIC_MAGNETOMETER--org.md2k.motionsense--MOTION_SENSE_HRV_PLUS--LEFT_WRIST = RAW--CHARACTERISTIC_MAGNETOMETER--org.md2k.motionsense--MOTION_SENSE_HRV_PLUS--LEFT_WRIST, 80d6ad8f-9ab5-302e-82c5-a3a603f64625\n",
      "\n",
      "ACTIVITY_TYPE--org.md2k.mcerebrum--PHONE = ACTIVITY_TYPE--org.md2k.mcerebrum--PHONE, b1c4c166-8f60-3185-98fa-d9287ef5c4f0\n",
      "\n",
      "DATA_QUALITY_SUMMARY_TOTAL--LED--org.md2k.motionsense--MOTION_SENSE_HRV_PLUS--RIGHT_WRIST = DATA_QUALITY_SUMMARY_TOTAL--LED--org.md2k.motionsense--MOTION_SENSE_HRV_PLUS--RIGHT_WRIST, 712b64fe-229b-375c-acf1-1dcab43dc5b2\n",
      "\n",
      "STEP_COUNT_SUMMARY_DAY--org.md2k.mcerebrum--PHONE = STEP_COUNT_SUMMARY_DAY--org.md2k.mcerebrum--PHONE, af3e8fb2-3f21-3c61-94f8-0d8160d9a300\n",
      "\n",
      "QUATERNION--org.md2k.motionsense--MOTION_SENSE_HRV_PLUS--LEFT_WRIST = QUATERNION--org.md2k.motionsense--MOTION_SENSE_HRV_PLUS--LEFT_WRIST, 8827185b-111c-3586-8329-ed3ef64104ef\n",
      "\n",
      "DATA_QUALITY_SUMMARY_HOUR--LED--org.md2k.motionsense--MOTION_SENSE_HRV_PLUS--RIGHT_WRIST = DATA_QUALITY_SUMMARY_HOUR--LED--org.md2k.motionsense--MOTION_SENSE_HRV_PLUS--RIGHT_WRIST, 9c0a402a-745c-3316-88f1-27ac151bf7ad\n",
      "\n",
      "DATA_QUALITY_SUMMARY_TOTAL--ACCELEROMETER--org.md2k.motionsense--MOTION_SENSE_HRV_PLUS--LEFT_WRIST = DATA_QUALITY_SUMMARY_TOTAL--ACCELEROMETER--org.md2k.motionsense--MOTION_SENSE_HRV_PLUS--LEFT_WRIST, 9aee1e7a-0e8e-3b86-892e-8f4f4fc41266\n",
      "\n",
      "DATA_QUALITY_SUMMARY_TOTAL--ACCELEROMETER--org.md2k.motionsense--MOTION_SENSE_HRV_PLUS--RIGHT_WRIST = DATA_QUALITY_SUMMARY_TOTAL--ACCELEROMETER--org.md2k.motionsense--MOTION_SENSE_HRV_PLUS--RIGHT_WRIST, 2142c5c3-6d36-3381-a6f8-27615a77e297\n",
      "\n",
      "SEQUENCE_NUMBER--CHARACTERISTIC_LED--org.md2k.motionsense--MOTION_SENSE_HRV_PLUS--LEFT_WRIST = SEQUENCE_NUMBER--CHARACTERISTIC_LED--org.md2k.motionsense--MOTION_SENSE_HRV_PLUS--LEFT_WRIST, 3dff0c66-c2bf-3933-8830-5a8b20a330a7\n",
      "\n",
      "MAGNETOMETER_SENSITIVITY--org.md2k.motionsense--MOTION_SENSE_HRV_PLUS--RIGHT_WRIST = MAGNETOMETER_SENSITIVITY--org.md2k.motionsense--MOTION_SENSE_HRV_PLUS--RIGHT_WRIST, 31ddb842-ab75-3f40-bc7d-1c0d095f10c6\n",
      "\n",
      "DATA_QUALITY--ACCELEROMETER--org.md2k.motionsense--MOTION_SENSE_HRV_PLUS--LEFT_WRIST = DATA_QUALITY--ACCELEROMETER--org.md2k.motionsense--MOTION_SENSE_HRV_PLUS--LEFT_WRIST, 96bc37d6-3a78-3cf8-9197-befeeb6c5087\n",
      "\n",
      "STEP_COUNT_SUMMARY_MINUTE--org.md2k.mcerebrum--PHONE = STEP_COUNT_SUMMARY_MINUTE--org.md2k.mcerebrum--PHONE, a2a1a15c-15ef-398d-a69f-6b8a049e27cd\n",
      "\n",
      "SEQUENCE_NUMBER--CHARACTERISTIC_MAGNETOMETER--org.md2k.motionsense--MOTION_SENSE_HRV_PLUS--LEFT_WRIST = SEQUENCE_NUMBER--CHARACTERISTIC_MAGNETOMETER--org.md2k.motionsense--MOTION_SENSE_HRV_PLUS--LEFT_WRIST, 3972fc6c-67b1-35dd-a947-20d3d0a11f82\n",
      "\n",
      "DATA_QUALITY_SUMMARY_MINUTE--LED--org.md2k.motionsense--MOTION_SENSE_HRV_PLUS--RIGHT_WRIST = DATA_QUALITY_SUMMARY_MINUTE--LED--org.md2k.motionsense--MOTION_SENSE_HRV_PLUS--RIGHT_WRIST, 5a764b4d-6f64-32ac-a827-5b7a25269669\n",
      "\n",
      "DATA_QUALITY_SUMMARY_MINUTE--ACCELEROMETER--org.md2k.motionsense--MOTION_SENSE_HRV_PLUS--LEFT_WRIST = DATA_QUALITY_SUMMARY_MINUTE--ACCELEROMETER--org.md2k.motionsense--MOTION_SENSE_HRV_PLUS--LEFT_WRIST, 62f4de58-dc30-3ed1-a41e-e2d1f64bfb22\n",
      "\n",
      "MAGNETOMETER--org.md2k.motionsense--MOTION_SENSE_HRV_PLUS--LEFT_WRIST = MAGNETOMETER--org.md2k.motionsense--MOTION_SENSE_HRV_PLUS--LEFT_WRIST, f7ba15a2-ce6e-3892-b3c0-f6d712b8b383\n",
      "\n",
      "DATA_QUALITY--ACCELEROMETER--org.md2k.motionsense--MOTION_SENSE_HRV_PLUS--RIGHT_WRIST = DATA_QUALITY--ACCELEROMETER--org.md2k.motionsense--MOTION_SENSE_HRV_PLUS--RIGHT_WRIST, d332396a-8882-3c04-a8c2-6fa0bd26b0df\n",
      "\n",
      "RAW--CHARACTERISTIC_MAGNETOMETER--org.md2k.motionsense--MOTION_SENSE_HRV_PLUS--RIGHT_WRIST = RAW--CHARACTERISTIC_MAGNETOMETER--org.md2k.motionsense--MOTION_SENSE_HRV_PLUS--RIGHT_WRIST, 03ce4dbd-94e7-30e9-8465-237d1f376b4b\n",
      "\n",
      "COMPASS--org.md2k.mcerebrum--PHONE = COMPASS--org.md2k.mcerebrum--PHONE, 105fd15e-b359-3ea0-b076-90ad8b8e6aae\n",
      "\n",
      "DATA_QUALITY--LED--org.md2k.motionsense--MOTION_SENSE_HRV_PLUS--LEFT_WRIST = DATA_QUALITY--LED--org.md2k.motionsense--MOTION_SENSE_HRV_PLUS--LEFT_WRIST, 02853f3c-3047-3d41-ab82-63bbfd4255e1\n",
      "\n",
      "RAW--CHARACTERISTIC_LED--org.md2k.motionsense--MOTION_SENSE_HRV_PLUS--RIGHT_WRIST = RAW--CHARACTERISTIC_LED--org.md2k.motionsense--MOTION_SENSE_HRV_PLUS--RIGHT_WRIST, 3ad613dd-f344-3023-8869-d2d485baa8af\n",
      "\n",
      "PROXIMITY--org.md2k.mcerebrum--PHONE = PROXIMITY--org.md2k.mcerebrum--PHONE, bd9c5de0-4b70-320c-b852-7f6226c33040\n",
      "\n",
      "LED--org.md2k.motionsense--MOTION_SENSE_HRV_PLUS--RIGHT_WRIST = LED--org.md2k.motionsense--MOTION_SENSE_HRV_PLUS--RIGHT_WRIST, 24174ab8-57a4-3a74-96a8-cff74063bb92\n",
      "\n",
      "ACCELEROMETER--org.md2k.motionsense--MOTION_SENSE_HRV_PLUS--RIGHT_WRIST = ACCELEROMETER--org.md2k.motionsense--MOTION_SENSE_HRV_PLUS--RIGHT_WRIST, c5a50a53-4c2e-3814-8051-faeddc7d5c38\n",
      "\n",
      "MAGNETOMETER_SENSITIVITY--org.md2k.motionsense--MOTION_SENSE_HRV_PLUS--LEFT_WRIST = MAGNETOMETER_SENSITIVITY--org.md2k.motionsense--MOTION_SENSE_HRV_PLUS--LEFT_WRIST, 862f28f0-1ee1-3996-8851-96101f263f21\n",
      "\n",
      "ACCELEROMETER--org.md2k.motionsense--MOTION_SENSE_HRV_PLUS--LEFT_WRIST = ACCELEROMETER--org.md2k.motionsense--MOTION_SENSE_HRV_PLUS--LEFT_WRIST, c7dbe5ff-0af8-38da-aad5-d20a762bfa1c\n",
      "\n",
      "GYROSCOPE--org.md2k.mcerebrum--PHONE = GYROSCOPE--org.md2k.mcerebrum--PHONE, 7cde33e1-dbf4-3486-ac52-d9e6010b64f2\n",
      "\n",
      "AMBIENT_LIGHT--org.md2k.mcerebrum--PHONE = AMBIENT_LIGHT--org.md2k.mcerebrum--PHONE, 3ae8658d-a938-3031-9f20-9d6e5835eb1f\n",
      "\n",
      "DATA_QUALITY_SUMMARY_MINUTE--LED--org.md2k.motionsense--MOTION_SENSE_HRV_PLUS--LEFT_WRIST = DATA_QUALITY_SUMMARY_MINUTE--LED--org.md2k.motionsense--MOTION_SENSE_HRV_PLUS--LEFT_WRIST, e7a4068d-967e-32ff-8eeb-d45f045d2101\n",
      "\n",
      "DATA_QUALITY_SUMMARY_MINUTE--ACCELEROMETER--org.md2k.motionsense--MOTION_SENSE_HRV_PLUS--RIGHT_WRIST = DATA_QUALITY_SUMMARY_MINUTE--ACCELEROMETER--org.md2k.motionsense--MOTION_SENSE_HRV_PLUS--RIGHT_WRIST, b267f82f-6692-306c-853d-bb34f0349332\n",
      "\n",
      "RAW--CHARACTERISTIC_LED--org.md2k.motionsense--MOTION_SENSE_HRV_PLUS--LEFT_WRIST = RAW--CHARACTERISTIC_LED--org.md2k.motionsense--MOTION_SENSE_HRV_PLUS--LEFT_WRIST, 23fde887-6e48-3cab-9ad9-3c59b784fba4\n",
      "\n",
      "DATA_QUALITY_SUMMARY_DAY--LED--org.md2k.motionsense--MOTION_SENSE_HRV_PLUS--RIGHT_WRIST = DATA_QUALITY_SUMMARY_DAY--LED--org.md2k.motionsense--MOTION_SENSE_HRV_PLUS--RIGHT_WRIST, 0bdd67ac-793f-351e-a9da-6fbe296b8cf1\n",
      "\n",
      "STEP_COUNT_SUMMARY_TOTAL--org.md2k.mcerebrum--PHONE = STEP_COUNT_SUMMARY_TOTAL--org.md2k.mcerebrum--PHONE, 7cddd9b7-be66-37ef-9e5b-99a619a92666\n",
      "\n",
      "LED--org.md2k.motionsense--MOTION_SENSE_HRV_PLUS--LEFT_WRIST = LED--org.md2k.motionsense--MOTION_SENSE_HRV_PLUS--LEFT_WRIST, c11e78ab-3e6a-34cc-8b95-311525db2976\n",
      "\n",
      "DATA_QUALITY_SUMMARY_HOUR--ACCELEROMETER--org.md2k.motionsense--MOTION_SENSE_HRV_PLUS--LEFT_WRIST = DATA_QUALITY_SUMMARY_HOUR--ACCELEROMETER--org.md2k.motionsense--MOTION_SENSE_HRV_PLUS--LEFT_WRIST, 03b35e81-8fb8-302d-a110-7037b7b7c4c8\n",
      "\n",
      "MAGNETOMETER--org.md2k.motionsense--MOTION_SENSE_HRV_PLUS--RIGHT_WRIST = MAGNETOMETER--org.md2k.motionsense--MOTION_SENSE_HRV_PLUS--RIGHT_WRIST, 4864406b-3c5d-337e-88ee-c7a1883770ff\n",
      "\n",
      "SEQUENCE_NUMBER--CHARACTERISTIC_LED--org.md2k.motionsense--MOTION_SENSE_HRV_PLUS--RIGHT_WRIST = SEQUENCE_NUMBER--CHARACTERISTIC_LED--org.md2k.motionsense--MOTION_SENSE_HRV_PLUS--RIGHT_WRIST, b6151865-e88a-3354-8f87-018f80f422c6\n",
      "\n",
      "BATTERY--org.md2k.motionsense--MOTION_SENSE_HRV_PLUS--RIGHT_WRIST = BATTERY--org.md2k.motionsense--MOTION_SENSE_HRV_PLUS--RIGHT_WRIST, cac8b56c-ef68-3d38-8151-eaeaa10aeffa\n",
      "\n",
      "TOUCH_SCREEN--org.md2k.mcerebrum--PHONE = TOUCH_SCREEN--org.md2k.mcerebrum--PHONE, db8bbcce-fe7e-3c67-b7e0-fdfe48471e25\n",
      "\n"
     ]
    },
    {
     "name": "stderr",
     "output_type": "stream",
     "text": [
      "/opt/conda/lib/python3.6/site-packages/MD2K_Cerebral_Cortex-2.2.2-py3.6.egg/cerebralcortex/cerebralcortex.py:189: DeprecationWarning: PLEASE USE stream_ids KEY IN DICT OBJECT TO GET ALL STREAM IDS OF A STREAM NAME. Identifier key will be removed in CerebralCortex version 2.2.4.\n",
      "  warnings.warn(\"PLEASE USE stream_ids KEY IN DICT OBJECT TO GET ALL STREAM IDS OF A STREAM NAME. Identifier key will be removed in CerebralCortex version 2.2.4.\", DeprecationWarning)\n"
     ]
    }
   ],
   "source": [
    "# Get all the streams of a user\n",
    "user_streams = CC.get_user_streams(participant_id)\n",
    "\n",
    "# Print all the stream names and identifiers\n",
    "for key,val in user_streams.items():\n",
    "    print(\"{} = {}, {}\\n\".format(key, val[\"name\"], val[\"identifier\"]))\n"
   ]
  },
  {
   "cell_type": "code",
   "execution_count": 5,
   "metadata": {},
   "outputs": [
    {
     "name": "stdout",
     "output_type": "stream",
     "text": [
      "c1208a0e-2ebd-3a50-9738-1c496e8ab5ab\n",
      "Stream Days ['20180530']\n"
     ]
    }
   ],
   "source": [
    "# Get stream ID of a stream name (BATTERY--org.md2k.mcerebrum--PHONE)\n",
    "stream_ids = CC.get_stream_id(participant_id, \"BATTERY--org.md2k.mcerebrum--PHONE\")\n",
    "\n",
    "if len(stream_ids)>0:\n",
    "    #get only one stream ID\n",
    "    stream_id = stream_ids[0][\"identifier\"]\n",
    "    print(stream_id)\n",
    "    # Get stream (BATTERY--org.md2k.phonesensor--PHONE = BATTERY--org.md2k.phonesensor--PHONE) days when data is available\n",
    "    stream_days = CC.get_stream_days(stream_id)\n",
    "\n",
    "    # Print stream (BATTERY--org.md2k.phonesensor--PHONE = BATTERY--org.md2k.phonesensor--PHONE) days\n",
    "    print(\"Stream Days {}\".format(stream_days))\n",
    "else:\n",
    "    print(\"No stream found\")"
   ]
  },
  {
   "cell_type": "code",
   "execution_count": 6,
   "metadata": {
    "scrolled": true
   },
   "outputs": [
    {
     "name": "stdout",
     "output_type": "stream",
     "text": [
      "Stream Data Descriptor [{'NAME': 'Level', 'UNIT': 'percentage', 'DATA_TYPE': 'float', 'FREQUENCY': '1.0', 'MAX_VALUE': '100', 'MIN_VALUE': '0', 'DESCRIPTION': 'current battery charge'}, {'NAME': 'Voltage', 'UNIT': 'voltage', 'DATA_TYPE': 'float', 'FREQUENCY': '1.0', 'MAX_VALUE': '5000', 'MIN_VALUE': '0', 'DESCRIPTION': 'current battery voltage level'}, {'NAME': 'Temperature', 'UNIT': 'celsius', 'DATA_TYPE': 'float', 'FREQUENCY': '1.0', 'MAX_VALUE': '100', 'MIN_VALUE': '-50', 'DESCRIPTION': 'current battery temperature'}]\n"
     ]
    }
   ],
   "source": [
    "# Get data stream of a user for a particular day\n",
    "# stream name BATTERY--org.md2k.phonesensor--PHONE = BATTERY--org.md2k.phonesensor--PHONE\n",
    "ds = CC.get_stream(stream_id, participant_id, stream_days[0])\n",
    "\n",
    "# Print data stream's data descriptor\n",
    "print(\"Stream Data Descriptor\" ,ds.data_descriptor)\n",
    "\n",
    "# Please have a look at all the properties of data stream at: https://github.com/MD2Korg/CerebralCortex/blob/master/cerebralcortex/core/datatypes/datastream.py"
   ]
  },
  {
   "cell_type": "code",
   "execution_count": 10,
   "metadata": {},
   "outputs": [
    {
     "data": {
      "text/plain": [
       "[DataPoint(2018-05-30 18:33:00.645000+00:00, None, -21600000, [83.0, 4152.0, 253.0]),\n",
       " DataPoint(2018-05-30 18:33:01.648000+00:00, None, -21600000, [83.0, 4152.0, 253.0]),\n",
       " DataPoint(2018-05-30 18:33:02.652000+00:00, None, -21600000, [83.0, 4152.0, 253.0]),\n",
       " DataPoint(2018-05-30 18:33:03.656000+00:00, None, -21600000, [83.0, 4152.0, 253.0]),\n",
       " DataPoint(2018-05-30 18:33:04.659000+00:00, None, -21600000, [83.0, 4152.0, 253.0])]"
      ]
     },
     "execution_count": 10,
     "metadata": {},
     "output_type": "execute_result"
    }
   ],
   "source": [
    "# Print only only first 5 data points of a stream\n",
    "ds.data[:5]"
   ]
  },
  {
   "cell_type": "code",
   "execution_count": 8,
   "metadata": {},
   "outputs": [
    {
     "data": {
      "image/png": "[encoded data removed]",
      "text/plain": [
       "<Figure size 432x288 with 1 Axes>"
      ]
     },
     "metadata": {},
     "output_type": "display_data"
    }
   ],
   "source": [
    "# Plot data stream\n",
    "\n",
    "battery = []\n",
    "day_time = []\n",
    "for dp in ds.data:\n",
    "    battery.append(dp.sample[0])\n",
    "    day_time.append(dp.start_time)\n",
    "\n",
    "plt.plot(day_time,battery)\n",
    "plt.ylabel('Battery Percentage')\n",
    "plt.xlabel('Time of the Day')\n",
    "plt.show()    "
   ]
  },
  {
   "cell_type": "code",
   "execution_count": null,
   "metadata": {},
   "outputs": [],
   "source": []
  }
 ],
 "metadata": {
  "kernelspec": {
   "display_name": "pySpark (Spark 2.2.0) (Python 3)",
   "language": "python",
   "name": "pyspark"
  },
  "language_info": {
   "codemirror_mode": {
    "name": "ipython",
    "version": 3
   },
   "file_extension": ".py",
   "mimetype": "text/x-python",
   "name": "python",
   "nbconvert_exporter": "python",
   "pygments_lexer": "ipython3",
   "version": "3.6.5"
  }
 },
 "nbformat": 4,
 "nbformat_minor": 2
}
